{
 "cells": [
  {
   "cell_type": "code",
   "execution_count": 6,
   "id": "dcd9c86a",
   "metadata": {},
   "outputs": [
    {
     "name": "stdout",
     "output_type": "stream",
     "text": [
      "[{'title': 'The House on the Borderland', 'author': 'William Hope Hodgson', 'release_date': 'November 10, 2003', 'language': 'English', 'ebook': '[Ebook #10002]'}, {'title': 'My First Years As A Frenchwoman, 1876-1879', 'author': 'Mary King Waddington', 'release_date': 'November 10, 2003', 'language': 'English', 'ebook': '[Ebook #10003]'}, {'title': 'The Warriors', 'author': 'Lindsay, Anna Robertson Brown', 'release_date': 'November 10, 2003', 'language': 'English', 'ebook': '[Ebook #10004]'}, {'title': 'A Voyage to the Moon', 'author': 'George Tucker', 'release_date': 'November 7, 2003', 'language': 'English', 'ebook': '[Ebook #10005]'}, {'title': 'La Fiammetta', 'author': 'Giovanni Boccaccio', 'release_date': 'November 7, 2003', 'language': 'English', 'ebook': '[Ebook #10006]'}, {'title': 'The Mystery', 'author': 'Stewart Edward White and Samuel Hopkins Adams', 'release_date': 'November 7, 2003', 'language': 'English', 'ebook': '[Ebook #10008]'}, {'title': 'Wild Northern Scenes', 'author': 'S. H. Hammond', 'release_date': 'November 7, 2003', 'language': 'English', 'ebook': '[Ebook #10009]'}, {'title': 'The Eulogies of Howard', 'author': 'William Hayley', 'release_date': 'November 7, 2003', 'language': 'English', 'ebook': '[Ebook #10010]'}]\n"
     ]
    }
   ],
   "source": [
    "content = []\n",
    "\n",
    "for i in range(10002, 10011):\n",
    "    if i == 10007:\n",
    "        continue\n",
    "\n",
    "    with open(f\"{i}.txt\", mode=\"r\", encoding=\"utf-8\") as text:\n",
    "        d = {}\n",
    "        for line in text.readlines():\n",
    "            if line.startswith(\"Title:\"):\n",
    "                _, title = line.split(\":\")\n",
    "                d[\"title\"] = title.strip()\n",
    "            if line.startswith(\"Author:\"):\n",
    "                _, author = line.split(\":\")\n",
    "                d[\"author\"] = author.strip()\n",
    "            if line.startswith(\"Language:\"):\n",
    "                _, language = line.split(\":\")\n",
    "                d[\"language\"] = language.strip()\n",
    "            if line.startswith(\"Release Date:\"):\n",
    "                _, release_date = line.split(\":\")\n",
    "                release_date, _ = release_date.split('[')\n",
    "                d[\"release_date\"] = release_date.strip()\n",
    "        d['ebook']= f\"[Ebook #{i}]\"\n",
    "                \n",
    "                # for index in release_date.split():\n",
    "                #     if index.startswith('['):\n",
    "                #         ebook = index.split(':')\n",
    "                #         d['ebook'] = index.strip\n",
    "\n",
    "            \n",
    "\n",
    "        content.append(d)\n",
    "        \n",
    "\n",
    "        \n",
    "    \n",
    "\n",
    "\n",
    "print(content)"
   ]
  },
  {
   "cell_type": "code",
   "execution_count": 7,
   "id": "2be2e031",
   "metadata": {},
   "outputs": [
    {
     "name": "stdout",
     "output_type": "stream",
     "text": [
      "                                        title  \\\n",
      "0                 The House on the Borderland   \n",
      "1  My First Years As A Frenchwoman, 1876-1879   \n",
      "2                                The Warriors   \n",
      "3                        A Voyage to the Moon   \n",
      "4                                La Fiammetta   \n",
      "5                                 The Mystery   \n",
      "6                        Wild Northern Scenes   \n",
      "7                      The Eulogies of Howard   \n",
      "\n",
      "                                          author       release_date language  \\\n",
      "0                           William Hope Hodgson  November 10, 2003  English   \n",
      "1                           Mary King Waddington  November 10, 2003  English   \n",
      "2                  Lindsay, Anna Robertson Brown  November 10, 2003  English   \n",
      "3                                  George Tucker   November 7, 2003  English   \n",
      "4                             Giovanni Boccaccio   November 7, 2003  English   \n",
      "5  Stewart Edward White and Samuel Hopkins Adams   November 7, 2003  English   \n",
      "6                                  S. H. Hammond   November 7, 2003  English   \n",
      "7                                 William Hayley   November 7, 2003  English   \n",
      "\n",
      "            ebook  \n",
      "0  [Ebook #10002]  \n",
      "1  [Ebook #10003]  \n",
      "2  [Ebook #10004]  \n",
      "3  [Ebook #10005]  \n",
      "4  [Ebook #10006]  \n",
      "5  [Ebook #10008]  \n",
      "6  [Ebook #10009]  \n",
      "7  [Ebook #10010]  \n"
     ]
    }
   ],
   "source": [
    "import pandas as pd\n",
    "\n",
    "result = pd.DataFrame(content)\n",
    "print(result)"
   ]
  },
  {
   "cell_type": "code",
   "execution_count": 8,
   "id": "a752ee3e",
   "metadata": {},
   "outputs": [
    {
     "data": {
      "text/html": [
       "<div>\n",
       "<style scoped>\n",
       "    .dataframe tbody tr th:only-of-type {\n",
       "        vertical-align: middle;\n",
       "    }\n",
       "\n",
       "    .dataframe tbody tr th {\n",
       "        vertical-align: top;\n",
       "    }\n",
       "\n",
       "    .dataframe thead th {\n",
       "        text-align: right;\n",
       "    }\n",
       "</style>\n",
       "<table border=\"1\" class=\"dataframe\">\n",
       "  <thead>\n",
       "    <tr style=\"text-align: right;\">\n",
       "      <th></th>\n",
       "      <th>title</th>\n",
       "      <th>author</th>\n",
       "      <th>release_date</th>\n",
       "      <th>language</th>\n",
       "      <th>ebook</th>\n",
       "    </tr>\n",
       "  </thead>\n",
       "  <tbody>\n",
       "    <tr>\n",
       "      <th>0</th>\n",
       "      <td>The House on the Borderland</td>\n",
       "      <td>William Hope Hodgson</td>\n",
       "      <td>November 10, 2003</td>\n",
       "      <td>English</td>\n",
       "      <td>[Ebook #10002]</td>\n",
       "    </tr>\n",
       "    <tr>\n",
       "      <th>1</th>\n",
       "      <td>My First Years As A Frenchwoman, 1876-1879</td>\n",
       "      <td>Mary King Waddington</td>\n",
       "      <td>November 10, 2003</td>\n",
       "      <td>English</td>\n",
       "      <td>[Ebook #10003]</td>\n",
       "    </tr>\n",
       "    <tr>\n",
       "      <th>2</th>\n",
       "      <td>The Warriors</td>\n",
       "      <td>Lindsay, Anna Robertson Brown</td>\n",
       "      <td>November 10, 2003</td>\n",
       "      <td>English</td>\n",
       "      <td>[Ebook #10004]</td>\n",
       "    </tr>\n",
       "    <tr>\n",
       "      <th>3</th>\n",
       "      <td>A Voyage to the Moon</td>\n",
       "      <td>George Tucker</td>\n",
       "      <td>November 7, 2003</td>\n",
       "      <td>English</td>\n",
       "      <td>[Ebook #10005]</td>\n",
       "    </tr>\n",
       "    <tr>\n",
       "      <th>4</th>\n",
       "      <td>La Fiammetta</td>\n",
       "      <td>Giovanni Boccaccio</td>\n",
       "      <td>November 7, 2003</td>\n",
       "      <td>English</td>\n",
       "      <td>[Ebook #10006]</td>\n",
       "    </tr>\n",
       "  </tbody>\n",
       "</table>\n",
       "</div>"
      ],
      "text/plain": [
       "                                        title                         author  \\\n",
       "0                 The House on the Borderland           William Hope Hodgson   \n",
       "1  My First Years As A Frenchwoman, 1876-1879           Mary King Waddington   \n",
       "2                                The Warriors  Lindsay, Anna Robertson Brown   \n",
       "3                        A Voyage to the Moon                  George Tucker   \n",
       "4                                La Fiammetta             Giovanni Boccaccio   \n",
       "\n",
       "        release_date language           ebook  \n",
       "0  November 10, 2003  English  [Ebook #10002]  \n",
       "1  November 10, 2003  English  [Ebook #10003]  \n",
       "2  November 10, 2003  English  [Ebook #10004]  \n",
       "3   November 7, 2003  English  [Ebook #10005]  \n",
       "4   November 7, 2003  English  [Ebook #10006]  "
      ]
     },
     "execution_count": 8,
     "metadata": {},
     "output_type": "execute_result"
    }
   ],
   "source": [
    "result.head()\n",
    "# result.tail()"
   ]
  },
  {
   "cell_type": "code",
   "execution_count": 9,
   "id": "8734e99d",
   "metadata": {},
   "outputs": [
    {
     "name": "stdout",
     "output_type": "stream",
     "text": [
      "                                        title  \\\n",
      "0                 The House on the Borderland   \n",
      "1  My First Years As A Frenchwoman, 1876-1879   \n",
      "2                                The Warriors   \n",
      "3                        A Voyage to the Moon   \n",
      "4                                La Fiammetta   \n",
      "5                                 The Mystery   \n",
      "6                        Wild Northern Scenes   \n",
      "7                      The Eulogies of Howard   \n",
      "\n",
      "                                          author       release_date language  \\\n",
      "0                           William Hope Hodgson  November 10, 2003  English   \n",
      "1                           Mary King Waddington  November 10, 2003  English   \n",
      "2                  Lindsay, Anna Robertson Brown  November 10, 2003  English   \n",
      "3                                  George Tucker   November 7, 2003  English   \n",
      "4                             Giovanni Boccaccio   November 7, 2003  English   \n",
      "5  Stewart Edward White and Samuel Hopkins Adams   November 7, 2003  English   \n",
      "6                                  S. H. Hammond   November 7, 2003  English   \n",
      "7                                 William Hayley   November 7, 2003  English   \n",
      "\n",
      "            ebook        Month  \n",
      "0  [Ebook #10002]  November 10  \n",
      "1  [Ebook #10003]  November 10  \n",
      "2  [Ebook #10004]  November 10  \n",
      "3  [Ebook #10005]   November 7  \n",
      "4  [Ebook #10006]   November 7  \n",
      "5  [Ebook #10008]   November 7  \n",
      "6  [Ebook #10009]   November 7  \n",
      "7  [Ebook #10010]   November 7  \n"
     ]
    }
   ],
   "source": [
    "result['Month'] = [x.split(',')[-0] for x in result['release_date']]\n",
    "print(result)"
   ]
  },
  {
   "cell_type": "code",
   "execution_count": 10,
   "id": "36711c4f",
   "metadata": {},
   "outputs": [
    {
     "name": "stdout",
     "output_type": "stream",
     "text": [
      "                                        title  \\\n",
      "0                 The House on the Borderland   \n",
      "1  My First Years As A Frenchwoman, 1876-1879   \n",
      "2                                The Warriors   \n",
      "3                        A Voyage to the Moon   \n",
      "4                                La Fiammetta   \n",
      "5                                 The Mystery   \n",
      "6                        Wild Northern Scenes   \n",
      "7                      The Eulogies of Howard   \n",
      "\n",
      "                                          author       release_date language  \\\n",
      "0                           William Hope Hodgson  November 10, 2003  English   \n",
      "1                           Mary King Waddington  November 10, 2003  English   \n",
      "2                  Lindsay, Anna Robertson Brown  November 10, 2003  English   \n",
      "3                                  George Tucker   November 7, 2003  English   \n",
      "4                             Giovanni Boccaccio   November 7, 2003  English   \n",
      "5  Stewart Edward White and Samuel Hopkins Adams   November 7, 2003  English   \n",
      "6                                  S. H. Hammond   November 7, 2003  English   \n",
      "7                                 William Hayley   November 7, 2003  English   \n",
      "\n",
      "            ebook        Month   Year  \n",
      "0  [Ebook #10002]  November 10   2003  \n",
      "1  [Ebook #10003]  November 10   2003  \n",
      "2  [Ebook #10004]  November 10   2003  \n",
      "3  [Ebook #10005]   November 7   2003  \n",
      "4  [Ebook #10006]   November 7   2003  \n",
      "5  [Ebook #10008]   November 7   2003  \n",
      "6  [Ebook #10009]   November 7   2003  \n",
      "7  [Ebook #10010]   November 7   2003  \n"
     ]
    }
   ],
   "source": [
    "result['Year'] = [x.split(',')[-1] for x in result['release_date']]\n",
    "print(result)"
   ]
  },
  {
   "cell_type": "code",
   "execution_count": 11,
   "id": "8d17542d",
   "metadata": {},
   "outputs": [
    {
     "data": {
      "text/html": [
       "<div>\n",
       "<style scoped>\n",
       "    .dataframe tbody tr th:only-of-type {\n",
       "        vertical-align: middle;\n",
       "    }\n",
       "\n",
       "    .dataframe tbody tr th {\n",
       "        vertical-align: top;\n",
       "    }\n",
       "\n",
       "    .dataframe thead th {\n",
       "        text-align: right;\n",
       "    }\n",
       "</style>\n",
       "<table border=\"1\" class=\"dataframe\">\n",
       "  <thead>\n",
       "    <tr style=\"text-align: right;\">\n",
       "      <th></th>\n",
       "      <th>title</th>\n",
       "      <th>author</th>\n",
       "      <th>language</th>\n",
       "      <th>ebook</th>\n",
       "      <th>Month</th>\n",
       "      <th>Year</th>\n",
       "    </tr>\n",
       "  </thead>\n",
       "  <tbody>\n",
       "    <tr>\n",
       "      <th>0</th>\n",
       "      <td>The House on the Borderland</td>\n",
       "      <td>William Hope Hodgson</td>\n",
       "      <td>English</td>\n",
       "      <td>[Ebook #10002]</td>\n",
       "      <td>November 10</td>\n",
       "      <td>2003</td>\n",
       "    </tr>\n",
       "    <tr>\n",
       "      <th>1</th>\n",
       "      <td>My First Years As A Frenchwoman, 1876-1879</td>\n",
       "      <td>Mary King Waddington</td>\n",
       "      <td>English</td>\n",
       "      <td>[Ebook #10003]</td>\n",
       "      <td>November 10</td>\n",
       "      <td>2003</td>\n",
       "    </tr>\n",
       "    <tr>\n",
       "      <th>2</th>\n",
       "      <td>The Warriors</td>\n",
       "      <td>Lindsay, Anna Robertson Brown</td>\n",
       "      <td>English</td>\n",
       "      <td>[Ebook #10004]</td>\n",
       "      <td>November 10</td>\n",
       "      <td>2003</td>\n",
       "    </tr>\n",
       "    <tr>\n",
       "      <th>3</th>\n",
       "      <td>A Voyage to the Moon</td>\n",
       "      <td>George Tucker</td>\n",
       "      <td>English</td>\n",
       "      <td>[Ebook #10005]</td>\n",
       "      <td>November 7</td>\n",
       "      <td>2003</td>\n",
       "    </tr>\n",
       "    <tr>\n",
       "      <th>4</th>\n",
       "      <td>La Fiammetta</td>\n",
       "      <td>Giovanni Boccaccio</td>\n",
       "      <td>English</td>\n",
       "      <td>[Ebook #10006]</td>\n",
       "      <td>November 7</td>\n",
       "      <td>2003</td>\n",
       "    </tr>\n",
       "    <tr>\n",
       "      <th>5</th>\n",
       "      <td>The Mystery</td>\n",
       "      <td>Stewart Edward White and Samuel Hopkins Adams</td>\n",
       "      <td>English</td>\n",
       "      <td>[Ebook #10008]</td>\n",
       "      <td>November 7</td>\n",
       "      <td>2003</td>\n",
       "    </tr>\n",
       "    <tr>\n",
       "      <th>6</th>\n",
       "      <td>Wild Northern Scenes</td>\n",
       "      <td>S. H. Hammond</td>\n",
       "      <td>English</td>\n",
       "      <td>[Ebook #10009]</td>\n",
       "      <td>November 7</td>\n",
       "      <td>2003</td>\n",
       "    </tr>\n",
       "    <tr>\n",
       "      <th>7</th>\n",
       "      <td>The Eulogies of Howard</td>\n",
       "      <td>William Hayley</td>\n",
       "      <td>English</td>\n",
       "      <td>[Ebook #10010]</td>\n",
       "      <td>November 7</td>\n",
       "      <td>2003</td>\n",
       "    </tr>\n",
       "  </tbody>\n",
       "</table>\n",
       "</div>"
      ],
      "text/plain": [
       "                                        title  \\\n",
       "0                 The House on the Borderland   \n",
       "1  My First Years As A Frenchwoman, 1876-1879   \n",
       "2                                The Warriors   \n",
       "3                        A Voyage to the Moon   \n",
       "4                                La Fiammetta   \n",
       "5                                 The Mystery   \n",
       "6                        Wild Northern Scenes   \n",
       "7                      The Eulogies of Howard   \n",
       "\n",
       "                                          author language           ebook  \\\n",
       "0                           William Hope Hodgson  English  [Ebook #10002]   \n",
       "1                           Mary King Waddington  English  [Ebook #10003]   \n",
       "2                  Lindsay, Anna Robertson Brown  English  [Ebook #10004]   \n",
       "3                                  George Tucker  English  [Ebook #10005]   \n",
       "4                             Giovanni Boccaccio  English  [Ebook #10006]   \n",
       "5  Stewart Edward White and Samuel Hopkins Adams  English  [Ebook #10008]   \n",
       "6                                  S. H. Hammond  English  [Ebook #10009]   \n",
       "7                                 William Hayley  English  [Ebook #10010]   \n",
       "\n",
       "         Month   Year  \n",
       "0  November 10   2003  \n",
       "1  November 10   2003  \n",
       "2  November 10   2003  \n",
       "3   November 7   2003  \n",
       "4   November 7   2003  \n",
       "5   November 7   2003  \n",
       "6   November 7   2003  \n",
       "7   November 7   2003  "
      ]
     },
     "execution_count": 11,
     "metadata": {},
     "output_type": "execute_result"
    }
   ],
   "source": [
    "final_table = result.drop(['release_date'], axis=1)\n",
    "final_table"
   ]
  },
  {
   "cell_type": "code",
   "execution_count": 44,
   "id": "43fcabe0",
   "metadata": {},
   "outputs": [
    {
     "data": {
      "image/png": "[encoded data removed]",
      "text/plain": [
       "<Figure size 640x480 with 1 Axes>"
      ]
     },
     "metadata": {},
     "output_type": "display_data"
    }
   ],
   "source": [
    "from matplotlib import pyplot as plt\n",
    "\n",
    "# create a bar plot of bookstitle vs date\n",
    "plt.bar(x=final_table.title, height=final_table.Month, color='blue')\n",
    "plt.xlabel(\"Tile of the books per day\")\n",
    "plt.ylabel(\"Days of the month\")\n",
    "plt.title(\"Books Released Each Day of 2003\")\n",
    "plt.xticks(rotation=90)\n",
    "plt.show()\n",
    "\n",
    "plt.show()\n",
    "\n",
    "# customizing my chart\n",
    "# plt.title('The graph showing the title of book published and the month')\n",
    "# plt.xlabel('Month')\n",
    "# plt.ylabel('title')"
   ]
  },
  {
   "attachments": {},
   "cell_type": "markdown",
   "id": "faa9f990",
   "metadata": {},
   "source": [
    "The table above shows that 8 authors published books for the month of november, 2003\n",
    "The books were published by different authors\n",
    "Just two days was recorded for the books publication which are november 7 and november 10\n",
    "Analysis shows that books were published on the 7th than 10th of november, so there are 5 books for the first day and 3 books on the second day respectively"
   ]
  },
  {
   "cell_type": "code",
   "execution_count": 19,
   "id": "87c3d4c4",
   "metadata": {},
   "outputs": [
    {
     "data": {
      "text/plain": [
       "0                   The House on the Borderland\n",
       "1    My First Years As A Frenchwoman, 1876-1879\n",
       "2                                  The Warriors\n",
       "3                          A Voyage to the Moon\n",
       "4                                  La Fiammetta\n",
       "5                                   The Mystery\n",
       "6                          Wild Northern Scenes\n",
       "7                        The Eulogies of Howard\n",
       "Name: title, dtype: object"
      ]
     },
     "execution_count": 19,
     "metadata": {},
     "output_type": "execute_result"
    }
   ],
   "source": [
    "books = result['title']\n",
    "books"
   ]
  },
  {
   "cell_type": "code",
   "execution_count": 20,
   "id": "40bc0f84",
   "metadata": {},
   "outputs": [
    {
     "name": "stdout",
     "output_type": "stream",
     "text": [
      "November 10, 2003\n",
      "November 10, 2003\n",
      "November 10, 2003\n",
      "November 7, 2003\n",
      "November 7, 2003\n",
      "November 7, 2003\n",
      "November 7, 2003\n",
      "November 7, 2003\n"
     ]
    }
   ],
   "source": [
    "dates = result['release_date']\n",
    "for index in dates:\n",
    "    print(index)"
   ]
  },
  {
   "cell_type": "code",
   "execution_count": 21,
   "id": "4d728321",
   "metadata": {},
   "outputs": [
    {
     "name": "stdout",
     "output_type": "stream",
     "text": [
      "The House on the Borderland\n",
      "My First Years As A Frenchwoman, 1876-1879\n",
      "The Warriors\n",
      "A Voyage to the Moon\n",
      "La Fiammetta\n",
      "The Mystery\n",
      "Wild Northern Scenes\n",
      "The Eulogies of Howard\n"
     ]
    }
   ],
   "source": [
    "for index in books:\n",
    "    print(index)"
   ]
  },
  {
   "cell_type": "code",
   "execution_count": 22,
   "id": "a79618ed",
   "metadata": {},
   "outputs": [
    {
     "name": "stdout",
     "output_type": "stream",
     "text": [
      "[{'The House on the Borderland': 'November 10, 2003'}, {'My First Years As A Frenchwoman, 1876-1879': 'November 10, 2003'}, {'The Warriors': 'November 10, 2003'}, {'A Voyage to the Moon': 'November 7, 2003'}, {'La Fiammetta': 'November 7, 2003'}, {'The Mystery': 'November 7, 2003'}, {'Wild Northern Scenes': 'November 7, 2003'}, {'The Eulogies of Howard': 'November 7, 2003'}]\n"
     ]
    }
   ],
   "source": [
    "d=[]\n",
    "for book, date in zip(books, dates):\n",
    "    new_dict = {}\n",
    "    new_dict[book]=date\n",
    "    d.append(new_dict)\n",
    "print(d)"
   ]
  },
  {
   "cell_type": "code",
   "execution_count": 59,
   "id": "27517fe2",
   "metadata": {},
   "outputs": [
    {
     "name": "stdout",
     "output_type": "stream",
     "text": [
      "[]\n"
     ]
    }
   ],
   "source": [
    "\n",
    "# from collections import Counter as count\\\n",
    "big_list = []\n",
    "res = []\n",
    "count = {}\n",
    "counts = {}\n",
    "\n",
    "# result =  [value for key, value in [x.items() for x in d]]\n",
    "\n",
    "for index in d:\n",
    "    for key, value in index.items():\n",
    "        res.append(value)\n",
    "con = []\n",
    "con2 = []\n",
    "for index in res:\n",
    "    if '7' in index:\n",
    "        con.append(index)\n",
    "        count['date'] = index\n",
    "        count['number_of_books'] = len(con)\n",
    "    else:\n",
    "        con2.append(index)\n",
    "        counts['date'] = index\n",
    "        counts['number_of_books'] = len(con2)\n",
    "\n",
    "# big_list.append(count)\n",
    "# big_list.append(counts)\n",
    "\n",
    "        \n",
    "print(big_list)\n",
    "# print(result)\n",
    "# print(len(index.items()))\n"
   ]
  },
  {
   "cell_type": "code",
   "execution_count": 34,
   "id": "bfb66c41",
   "metadata": {},
   "outputs": [
    {
     "data": {
      "text/html": [
       "<div>\n",
       "<style scoped>\n",
       "    .dataframe tbody tr th:only-of-type {\n",
       "        vertical-align: middle;\n",
       "    }\n",
       "\n",
       "    .dataframe tbody tr th {\n",
       "        vertical-align: top;\n",
       "    }\n",
       "\n",
       "    .dataframe thead th {\n",
       "        text-align: right;\n",
       "    }\n",
       "</style>\n",
       "<table border=\"1\" class=\"dataframe\">\n",
       "  <thead>\n",
       "    <tr style=\"text-align: right;\">\n",
       "      <th></th>\n",
       "      <th>date</th>\n",
       "      <th>number_of_books</th>\n",
       "    </tr>\n",
       "  </thead>\n",
       "  <tbody>\n",
       "    <tr>\n",
       "      <th>0</th>\n",
       "      <td>November 7, 2003</td>\n",
       "      <td>5</td>\n",
       "    </tr>\n",
       "    <tr>\n",
       "      <th>1</th>\n",
       "      <td>November 10, 2003</td>\n",
       "      <td>3</td>\n",
       "    </tr>\n",
       "  </tbody>\n",
       "</table>\n",
       "</div>"
      ],
      "text/plain": [
       "                date  number_of_books\n",
       "0   November 7, 2003                5\n",
       "1  November 10, 2003                3"
      ]
     },
     "execution_count": 34,
     "metadata": {},
     "output_type": "execute_result"
    }
   ],
   "source": [
    "import pandas as pd\n",
    "answer2_table = pd.DataFrame(big_list)\n",
    "answer2_table"
   ]
  },
  {
   "cell_type": "code",
   "execution_count": 37,
   "id": "395449c0",
   "metadata": {},
   "outputs": [
    {
     "data": {
      "image/png": "[encoded data removed]",
      "text/plain": [
       "<Figure size 640x480 with 1 Axes>"
      ]
     },
     "metadata": {},
     "output_type": "display_data"
    }
   ],
   "source": [
    "import matplotlib.pyplot as plt\n",
    "\n",
    "plt.bar(x=answer2_table.date, height=answer2_table.number_of_books, color='blue')\n",
    "plt.xlabel(\"Date\")\n",
    "plt.ylabel(\"Number of Books\")\n",
    "plt.title(\"Books Released Each Day of 2003\")\n",
    "plt.xticks(rotation=9)\n",
    "plt.show()"
   ]
  },
  {
   "attachments": {},
   "cell_type": "markdown",
   "id": "c9b770e4",
   "metadata": {},
   "source": [
    "The analysis result shows that books were released on the 7th and on the 10th of november 2003.\n",
    "The number of books released on the 7th day of november 2003 are 5\n",
    "While there are only three books published on the 5th day of november, 2003"
   ]
  },
  {
   "cell_type": "code",
   "execution_count": null,
   "id": "bae7d903",
   "metadata": {},
   "outputs": [],
   "source": []
  }
 ],
 "metadata": {
  "kernelspec": {
   "display_name": "Python 3",
   "language": "python",
   "name": "python3"
  },
  "language_info": {
   "codemirror_mode": {
    "name": "ipython",
    "version": 3
   },
   "file_extension": ".py",
   "mimetype": "text/x-python",
   "name": "python",
   "nbconvert_exporter": "python",
   "pygments_lexer": "ipython3",
   "version": "3.10.5 (tags/v3.10.5:f377153, Jun  6 2022, 16:14:13) [MSC v.1929 64 bit (AMD64)]"
  },
  "vscode": {
   "interpreter": {
    "hash": "fb4569285eef3a3450cb62085a5b1e0da4bce0af555edc33dcf29baf3acc1368"
   }
  }
 },
 "nbformat": 4,
 "nbformat_minor": 5
}
